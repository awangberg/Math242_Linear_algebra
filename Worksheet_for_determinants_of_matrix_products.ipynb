{
  "nbformat": 4,
  "nbformat_minor": 0,
  "metadata": {
    "colab": {
      "name": "Worksheet for determinants of matrix products.ipynb",
      "provenance": [],
      "authorship_tag": "ABX9TyMUTOSr6qzLBT4WRP00gIa5",
      "include_colab_link": true
    },
    "kernelspec": {
      "name": "python3",
      "display_name": "Python 3"
    }
  },
  "cells": [
    {
      "cell_type": "markdown",
      "metadata": {
        "id": "view-in-github",
        "colab_type": "text"
      },
      "source": [
        "<a href=\"https://colab.research.google.com/github/awangberg/Math242_Linear_algebra_code_projects/blob/master/Worksheet_for_determinants_of_matrix_products.ipynb\" target=\"_parent\"><img src=\"https://colab.research.google.com/assets/colab-badge.svg\" alt=\"Open In Colab\"/></a>"
      ]
    },
    {
      "cell_type": "code",
      "metadata": {
        "id": "kn0fqau_uC9n"
      },
      "source": [
        "#  Import numpy:\n",
        "\n",
        "\n",
        "import matplotlib.pyplot as plt\n",
        "from sympy import Poly\n",
        "import sympy as sym\n",
        "import numpy as np\n",
        "from numpy import c_\n",
        "\n",
        "# We'll specify that x and t are variables:\n",
        "x, t = sym.symbols('x, t')\n",
        "\n",
        "ll = \"loaded\""
      ],
      "execution_count": 1,
      "outputs": []
    },
    {
      "cell_type": "code",
      "metadata": {
        "id": "S1opBqOLuG26",
        "outputId": "e7c1129d-406a-4cd2-bba4-cc1554bb9c11",
        "colab": {
          "base_uri": "https://localhost:8080/",
          "height": 85
        }
      },
      "source": [
        "# create the matrix:\n",
        "P = np.matrix([[1, -1, 3, 4],\n",
        "               [1, 10, -1, 5],\n",
        "               [0, 8, -1, 6],\n",
        "               [0, 0, -1, 1]])\n",
        "\n",
        "Q = np.matrix([[1, -1, 3, 0],\n",
        "               [1, 19, -4, 0],\n",
        "               [0, 1, -5, 0],\n",
        "               [12, 1, -6, 1]])\n",
        "\n",
        "R = P*Q\n",
        "\n",
        "R"
      ],
      "execution_count": 10,
      "outputs": [
        {
          "output_type": "execute_result",
          "data": {
            "text/plain": [
              "matrix([[ 48, -13, -32,   4],\n",
              "        [ 71, 193, -62,   5],\n",
              "        [ 80, 157, -63,   6],\n",
              "        [ 12,   0,  -1,   1]])"
            ]
          },
          "metadata": {
            "tags": []
          },
          "execution_count": 10
        }
      ]
    },
    {
      "cell_type": "code",
      "metadata": {
        "id": "_Cp91b4TuKkw",
        "outputId": "e54755b9-ffb2-49d6-cf56-a9d7893bca44",
        "colab": {
          "base_uri": "https://localhost:8080/",
          "height": 34
        }
      },
      "source": [
        "np.linalg.det(P)\n",
        "np.linalg.det(Q)\n",
        "np.linalg.det(P*Q)"
      ],
      "execution_count": 14,
      "outputs": [
        {
          "output_type": "execute_result",
          "data": {
            "text/plain": [
              "-7346.999999999996"
            ]
          },
          "metadata": {
            "tags": []
          },
          "execution_count": 14
        }
      ]
    },
    {
      "cell_type": "code",
      "metadata": {
        "id": "cH2LfxlkucJg"
      },
      "source": [
        ""
      ],
      "execution_count": null,
      "outputs": []
    }
  ]
}
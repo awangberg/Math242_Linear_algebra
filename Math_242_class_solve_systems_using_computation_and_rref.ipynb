{
  "nbformat": 4,
  "nbformat_minor": 0,
  "metadata": {
    "colab": {
      "name": "Math_242_solve_systems_using_computation_and_rref.ipynb",
      "provenance": [],
      "authorship_tag": "ABX9TyNSdoWjcXLtg7cHK3zwnQEg",
      "include_colab_link": true
    },
    "kernelspec": {
      "name": "python3",
      "display_name": "Python 3"
    }
  },
  "cells": [
    {
      "cell_type": "markdown",
      "metadata": {
        "id": "view-in-github",
        "colab_type": "text"
      },
      "source": [
        "<a href=\"https://colab.research.google.com/github/awangberg/Math242_Linear_algebra_code_projects/blob/master/Math_242_class_solve_systems_using_computation_and_rref.ipynb\" target=\"_parent\"><img src=\"https://colab.research.google.com/assets/colab-badge.svg\" alt=\"Open In Colab\"/></a>"
      ]
    },
    {
      "cell_type": "markdown",
      "metadata": {
        "id": "Ry_o-kLL_-wf",
        "colab_type": "text"
      },
      "source": [
        "# Load the preliminary code"
      ]
    },
    {
      "cell_type": "code",
      "metadata": {
        "id": "dhOLtwrRRc9S",
        "colab_type": "code",
        "colab": {}
      },
      "source": [
        "import numpy as np\n",
        "from numpy import c_\n",
        "\n",
        "ll = \"loaded\""
      ],
      "execution_count": 2,
      "outputs": []
    },
    {
      "cell_type": "code",
      "metadata": {
        "id": "AHRXKhal_Wcj",
        "colab_type": "code",
        "colab": {
          "base_uri": "https://localhost:8080/",
          "height": 34
        },
        "outputId": "7a76581d-498d-4e94-97fe-36789aae175f"
      },
      "source": [
        "lll = \" correctly!\"\n",
        "\n",
        "def rref(matrix):\n",
        "    A = np.array(matrix, dtype=np.float64)\n",
        "\n",
        "    i = 0 # row\n",
        "    j = 0 # column\n",
        "    while True:\n",
        "        # find next nonzero column\n",
        "        while all(A.T[j] == 0.0):\n",
        "            j += 1\n",
        "            # if reached the end, break\n",
        "            if j == len(A[0]) - 1 : break\n",
        "        # if a_ij == 0 find first row i_>=i with a \n",
        "        # nonzero entry in column j and swap rows i and i_\n",
        "        if A[i][j] == 0:\n",
        "            i_ = i\n",
        "            while A[i_][j] == 0:\n",
        "                i_ += 1\n",
        "                # if reached the end, break\n",
        "                if i_ == len(A) - 1 : break\n",
        "            A[[i, i_]] = A[[i_, i]]\n",
        "        # divide ith row a_ij to make it a_ij == 1\n",
        "        A[i] = A[i] / A[i][j]\n",
        "        # eliminate all other entries in the jth column by subtracting\n",
        "        # multiples of of the ith row from the others\n",
        "        for i_ in range(len(A)):\n",
        "            if i_ != i:\n",
        "                A[i_] = A[i_] - A[i] * A[i_][j] / A[i][j]\n",
        "        # if reached the end, break\n",
        "        if (i == len(A) - 1) or (j == len(A[0]) - 1): break\n",
        "        # otherwise, we continue\n",
        "        i += 1\n",
        "        j += 1\n",
        "\n",
        "    return A\n",
        "\n",
        "print(\">> The page \", ll, lll)"
      ],
      "execution_count": 3,
      "outputs": [
        {
          "output_type": "stream",
          "text": [
            ">> The page  loaded  correctly!\n"
          ],
          "name": "stdout"
        }
      ]
    },
    {
      "cell_type": "markdown",
      "metadata": {
        "id": "xVLAg1tp7aJX",
        "colab_type": "text"
      },
      "source": [
        "# Solving Systems using Computation:  An Overview"
      ]
    },
    {
      "cell_type": "markdown",
      "metadata": {
        "id": "2c12Csd440sV",
        "colab_type": "text"
      },
      "source": [
        "Suppose we wanted to solve a system like:\n",
        "\n",
        "$$\n",
        "\\left\\{ \\begin{array}{rcr} 5x + 6y + 2z & = & -1\\\\ 4x + 7y + 19 z & = & 2 \\\\ 3y + 12z & = & 1 \\\\ \\end{array} \\right.\n",
        "$$\n",
        "\n",
        "First, we create a matrix $A$ to represent the matrix on matrix on the left.  We'll also create a column matrix, or vector, to represent the numbers on the right hand side.  We'll call that vector $\\vec{b}$:"
      ]
    },
    {
      "cell_type": "code",
      "metadata": {
        "id": "uYNwPc9ISAoC",
        "colab_type": "code",
        "colab": {}
      },
      "source": [
        "# create the matrix:\n",
        "A = np.matrix([[5, 6, 2],\n",
        "               [4, 7, 19],\n",
        "               [0, 3, 12]])\n",
        "\n",
        "# create the vector for the right hand side:\n",
        "b = np.matrix([[-1], [2], [1]])"
      ],
      "execution_count": 5,
      "outputs": []
    },
    {
      "cell_type": "markdown",
      "metadata": {
        "id": "teSTnJWS4-GS",
        "colab_type": "text"
      },
      "source": [
        "To verify that we have entered $A$ correctly, or $\\vec{b}$ correctly, simply call \n",
        "\n",
        "```\n",
        "print(A)\n",
        "```\n",
        "\n",
        " or \n",
        " \n",
        " \n",
        "\n",
        "```\n",
        "print(b)\n",
        "```\n",
        "\n",
        "and the system will display that element:\n",
        "\n"
      ]
    },
    {
      "cell_type": "code",
      "metadata": {
        "id": "buHLWqEJ5Hds",
        "colab_type": "code",
        "colab": {
          "base_uri": "https://localhost:8080/",
          "height": 119
        },
        "outputId": "ea790486-1327-4a06-d0cd-ce73d0fa5e2c"
      },
      "source": [
        "print(A)\n",
        "print(b)"
      ],
      "execution_count": 9,
      "outputs": [
        {
          "output_type": "stream",
          "text": [
            "[[ 5  6  2]\n",
            " [ 4  7 19]\n",
            " [ 0  3 12]]\n",
            "[[-1]\n",
            " [ 2]\n",
            " [ 1]]\n"
          ],
          "name": "stdout"
        }
      ]
    },
    {
      "cell_type": "markdown",
      "metadata": {
        "id": "EDZT8emc5iGZ",
        "colab_type": "text"
      },
      "source": [
        "We want to solve the augmented matrix  $\\left( A \\, | \\, \\vec{b} \\right)$, so we need to create an augmented matrix.  We use:\n",
        "\n",
        "```\n",
        " np.c_(A, b)\n",
        "```\n",
        "to create the augmented matrix by putting the $\\vec{b}$ vector on the right of the $A$ matrix.  We'll save this new matrix as $M$:\n"
      ]
    },
    {
      "cell_type": "code",
      "metadata": {
        "id": "VFHQRedm5920",
        "colab_type": "code",
        "colab": {
          "base_uri": "https://localhost:8080/",
          "height": 68
        },
        "outputId": "855fbdf7-7460-44b5-ae26-430dc8c33ebf"
      },
      "source": [
        "M = np.c_[A,b]\n",
        "print(M)"
      ],
      "execution_count": 10,
      "outputs": [
        {
          "output_type": "stream",
          "text": [
            "[[ 5  6  2 -1]\n",
            " [ 4  7 19  2]\n",
            " [ 0  3 12  1]]\n"
          ],
          "name": "stdout"
        }
      ]
    },
    {
      "cell_type": "markdown",
      "metadata": {
        "id": "0iuR27cy86S6",
        "colab_type": "text"
      },
      "source": [
        "Lastly, we'll use te function \n",
        "\n",
        "```\n",
        "rref(M)\n",
        "```\n",
        "\n",
        "to provide the reduced row echelon form of the matrix $M$.  Let's print out the result:\n"
      ]
    },
    {
      "cell_type": "code",
      "metadata": {
        "id": "9Qhe2zZjYAVL",
        "colab_type": "code",
        "colab": {
          "base_uri": "https://localhost:8080/",
          "height": 68
        },
        "outputId": "15a5c380-4290-4079-fd45-86d6dafb2314"
      },
      "source": [
        "print(rref(M))"
      ],
      "execution_count": 11,
      "outputs": [
        {
          "output_type": "stream",
          "text": [
            "[[ 1.          0.          0.          0.45736434]\n",
            " [ 0.          1.          0.         -0.62790698]\n",
            " [-0.         -0.          1.          0.24031008]]\n"
          ],
          "name": "stdout"
        }
      ]
    },
    {
      "cell_type": "markdown",
      "metadata": {
        "id": "tL_FR5pV9MIQ",
        "colab_type": "text"
      },
      "source": [
        "# Use Computation to check prior homework"
      ]
    },
    {
      "cell_type": "markdown",
      "metadata": {
        "id": "SLu14LMjXgAj",
        "colab_type": "text"
      },
      "source": [
        "We'll use Google Colab to check our solutions to the six systems below, which we solved previously using row operations:\n",
        "\n",
        "$$\n",
        "(a) \\hspace{.5cm}\n",
        "\\left\\{ \\begin{array}{rcr} 2x + 2y & = & 5 \\\\ x - 4y & = & 0 \\\\ \\end{array} \\right.\n",
        "\\hspace{1cm}\n",
        "(b) \\hspace{.5cm}\n",
        "\\left\\{ \\begin{array}{rcr} -x + y &=& 1 \\\\ x + y &=& 2 \\\\ \\end{array}\n",
        "\\right.\n",
        "\\hspace{1cm}\n",
        "(c) \\hspace{.5cm}\n",
        "\\left\\{ \\begin{array}{rcr} x - 3y + z & = 1 \\\\ x + y + 2z & = & 14 \\\\ \\end{array}\n",
        "\\right.\n",
        "\\hspace{1cm}\n",
        "(d) \\hspace{.5cm}\n",
        "\\left\\{ \\begin{array}{rcr} -x - y &=& 1 \\\\ -3x -3 y &=& 2 \\\\ \\end{array}\n",
        "\\right.\n",
        "$$\n",
        "\n",
        "\n",
        "$$\n",
        "(e) \\hspace{.5cm}\n",
        "\\left\\{ \\begin{array}{rcr} 4y + z & = & 20 \\\\ 2x - 2y + z & = & 0 \\\\ x + z & = & 5 \\\\ x + y - z & = & 10 \\\\ \\end{array} \\right.\n",
        "\\hspace{1cm}\n",
        "(f) \\hspace{.5cm}\n",
        "\\left\\{ \\begin{array}{rcr} 2x + z + w & = & 5 \\\\ y - w & = & -1 \\\\ 3x - z - w & = & 0 \\\\ 4x + y + 2z + w & = & 9 \\\\ \\end{array}\n",
        "\\right.\n",
        "$$\n",
        "\n",
        "\n"
      ]
    },
    {
      "cell_type": "markdown",
      "metadata": {
        "id": "XNUulSKp9TgA",
        "colab_type": "text"
      },
      "source": [
        "The main steps are to:\n",
        "\n",
        "1) Create the matrix $A$ and column vector $\\vec{b}$ for the system using\n",
        "\n",
        "\n",
        "\n",
        "```\n",
        "# create the matrix:\n",
        "A = np.matrix([[5, 6, 2],\n",
        "               [4, 7, 19],\n",
        "               [0, 3, 12]])\n",
        "\n",
        "# create the vector for the right hand side:\n",
        "b = np.matrix([[-1], [2], [1]])\n",
        "```\n",
        "\n",
        "\n",
        "2) Create the augmented matrix $\\left( A \\, | \\, \\vec{b} \\right)$ using\n",
        "\n",
        "\n",
        "\n",
        "```\n",
        "M = np.c_[A,b]\n",
        "```\n",
        "\n",
        "3)  Display the reduced row echelon form of $M$ using\n",
        "\n",
        "\n",
        "\n",
        "```\n",
        "print(rref(M))\n",
        "```\n",
        "\n",
        "You'll do this for each of the six systems of equations from the homework:\n"
      ]
    },
    {
      "cell_type": "markdown",
      "metadata": {
        "id": "ieV1CTIh-Lzd",
        "colab_type": "text"
      },
      "source": [
        "$$\n",
        "(a) \\hspace{.5cm}\n",
        "\\left\\{ \\begin{array}{rcr} 2x + 2y & = & 5 \\\\ x - 4y & = & 0 \\\\ \\end{array} \\right.\n",
        "$$"
      ]
    },
    {
      "cell_type": "code",
      "metadata": {
        "id": "uEUzkFMc-NrD",
        "colab_type": "code",
        "colab": {
          "base_uri": "https://localhost:8080/",
          "height": 51
        },
        "outputId": "98f4bb23-fa0c-4901-b4e6-65216c6d0fb0"
      },
      "source": [
        "# create the matrix:\n",
        "A = np.matrix([[2, 2],\n",
        "               [1, -4]])\n",
        " \n",
        "# create the vector for the right hand side:\n",
        "b = np.matrix([[5], [0]])\n",
        "\n",
        "# print(A)\n",
        "# print(b)\n",
        "\n",
        "M = np.c_[A, b]\n",
        "\n",
        "# print(M)\n",
        "\n",
        "print(rref(M))\n"
      ],
      "execution_count": 20,
      "outputs": [
        {
          "output_type": "stream",
          "text": [
            "[[ 1.   0.   2. ]\n",
            " [-0.   1.   0.5]]\n"
          ],
          "name": "stdout"
        }
      ]
    },
    {
      "cell_type": "markdown",
      "metadata": {
        "id": "l_5PUxlo-OnH",
        "colab_type": "text"
      },
      "source": [
        "$$\n",
        "(b) \\hspace{.5cm}\n",
        "\\left\\{ \\begin{array}{rcr} -x + y &=& 1 \\\\ x + y &=& 2 \\\\ \\end{array}\n",
        "\\right.\n",
        "$$"
      ]
    },
    {
      "cell_type": "code",
      "metadata": {
        "id": "rgpL6ig2-QJf",
        "colab_type": "code",
        "colab": {}
      },
      "source": [
        ""
      ],
      "execution_count": null,
      "outputs": []
    },
    {
      "cell_type": "markdown",
      "metadata": {
        "id": "6pw-7ZxU-QuE",
        "colab_type": "text"
      },
      "source": [
        "$$\n",
        "(c) \\hspace{.5cm}\n",
        "\\left\\{ \\begin{array}{rcr} x - 3y + z & = 1 \\\\ x + y + 2z & = & 14 \\\\ \\end{array}\n",
        "\\right.\n",
        "$$"
      ]
    },
    {
      "cell_type": "code",
      "metadata": {
        "id": "4Fm9M0Pg-S_F",
        "colab_type": "code",
        "colab": {}
      },
      "source": [
        ""
      ],
      "execution_count": null,
      "outputs": []
    },
    {
      "cell_type": "markdown",
      "metadata": {
        "id": "KiRFFlCt-Tr2",
        "colab_type": "text"
      },
      "source": [
        "$$\n",
        "(d) \\hspace{.5cm}\n",
        "\\left\\{ \\begin{array}{rcr} -x - y &=& 1 \\\\ -3x -3 y &=& 2 \\\\ \\end{array}\n",
        "\\right.\n",
        "$$"
      ]
    },
    {
      "cell_type": "code",
      "metadata": {
        "id": "aoJNak7k-VlQ",
        "colab_type": "code",
        "colab": {}
      },
      "source": [
        ""
      ],
      "execution_count": null,
      "outputs": []
    },
    {
      "cell_type": "markdown",
      "metadata": {
        "id": "wyc1fCaY-WFu",
        "colab_type": "text"
      },
      "source": [
        "$$\n",
        "(e) \\hspace{.5cm}\n",
        "\\left\\{ \\begin{array}{rcr} 4y + z & = & 20 \\\\ 2x - 2y + z & = & 0 \\\\ x + z & = & 5 \\\\ x + y - z & = & 10 \\\\ \\end{array} \\right.\n",
        "$$"
      ]
    },
    {
      "cell_type": "code",
      "metadata": {
        "id": "98NNaKMX-Xiq",
        "colab_type": "code",
        "colab": {}
      },
      "source": [
        ""
      ],
      "execution_count": null,
      "outputs": []
    },
    {
      "cell_type": "markdown",
      "metadata": {
        "id": "22QYFvJX-a6O",
        "colab_type": "text"
      },
      "source": [
        "$$\n",
        "(f) \\hspace{.5cm}\n",
        "\\left\\{ \\begin{array}{rcr} 2x + z + w & = & 5 \\\\ y - w & = & -1 \\\\ 3x - z - w & = & 0 \\\\ 4x + y + 2z + w & = & 9 \\\\ \\end{array}\n",
        "\\right.\n",
        "$$"
      ]
    },
    {
      "cell_type": "code",
      "metadata": {
        "id": "r3WB6JRn-b5W",
        "colab_type": "code",
        "colab": {}
      },
      "source": [
        ""
      ],
      "execution_count": null,
      "outputs": []
    }
  ]
}